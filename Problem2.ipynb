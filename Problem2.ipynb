{
 "cells": [
  {
   "cell_type": "code",
   "execution_count": 1,
   "metadata": {
    "collapsed": true
   },
   "outputs": [],
   "source": [
    "import math\n",
    "import numpy as np\n",
    "import matplotlib.pyplot as plt\n",
    "from scipy.stats import norm\n",
    "from scipy.special import erf\n",
    "import matplotlib.mlab as mlab\n",
    "import scipy.integrate as integrate\n",
    "\n",
    "%matplotlib inline\n",
    "plt.rcParams['figure.figsize'] = (10.0, 8.0) # set default size of plots\n",
    "plt.rcParams['image.interpolation'] = 'nearest'\n",
    "plt.rcParams['image.cmap'] = 'gray'"
   ]
  },
  {
   "cell_type": "code",
   "execution_count": 28,
   "metadata": {
    "collapsed": false
   },
   "outputs": [],
   "source": [
    "def null(size):\n",
    "    rv = np.random.normal(size=size )\n",
    "    return(rv)\n",
    "\n",
    "def alt(mu,epsilon):\n",
    "    rv = np.random.normal(scale=1.0)\n",
    "    if np.random.uniform() < epsilon:\n",
    "        rv += mu\n",
    "    return(rv)\n",
    "\n",
    "def p_from_z(array):\n",
    "    return(0.5 - 0.5*erf(array/math.sqrt(2)))\n",
    "\n",
    "def pb(beta):\n",
    "    if beta <.75:\n",
    "        return beta - 0.5\n",
    "    else:\n",
    "        return((1-math.sqrt(1-beta))^2)"
   ]
  },
  {
   "cell_type": "code",
   "execution_count": 29,
   "metadata": {
    "collapsed": false
   },
   "outputs": [
    {
     "name": "stdout",
     "output_type": "stream",
     "text": [
      "('non null', 251.18864315095806)\n"
     ]
    }
   ],
   "source": [
    "n=10**6\n",
    "beta = 0.6\n",
    "r = 1.2*pb(beta)+0.1\n",
    "mu = math.sqrt(2*r*math.log(n))\n",
    "epsilon = n**(-beta)\n",
    "print(\"non null\",n*epsilon)\n",
    "threshold = math.sqrt(2*math.log(math.log(n)))\n"
   ]
  },
  {
   "cell_type": "code",
   "execution_count": 27,
   "metadata": {
    "collapsed": false
   },
   "outputs": [
    {
     "name": "stdout",
     "output_type": "stream",
     "text": [
      "('index', 85)\n",
      "('max val', 3.5867732399750851)\n",
      "('p of argmax', 5.8554489918427599e-05)\n",
      "True\n"
     ]
    }
   ],
   "source": [
    "Experiments = 10**3\n",
    "max_val = np.zeros(Experiments)\n",
    "for i in range(Experiments):\n",
    "    values = null(n)\n",
    "    p_values = p_from_z(values)\n",
    "    p_values.sort()\n",
    "\n",
    "    stat = np.zeros(n)\n",
    "    for i in range(n/2):\n",
    "        stat[i] = math.sqrt(n)*(((i+1.0)/n - p_values[i] )/(math.sqrt(p_values[i]*(1-p_values[i]))))\n",
    "    max_val[i] = np.max(stat)\n",
    "threshold = np.percentile(max_val,95)"
   ]
  },
  {
   "cell_type": "code",
   "execution_count": 26,
   "metadata": {
    "collapsed": false
   },
   "outputs": [
    {
     "data": {
      "image/png": "[encoded data removed]",
      "text/plain": [
       "<matplotlib.figure.Figure at 0x10fbafbd0>"
      ]
     },
     "metadata": {},
     "output_type": "display_data"
    }
   ],
   "source": [
    "\n",
    "plt.hist(max_val, 100, normed=1, facecolor='black', alpha=0.75)\n",
    "plt.xlabel('Smarts')\n",
    "plt.ylabel('Probability')\n",
    "plt.title(r'$\\mathrm{Null\\ Distribution}\\ \\mu=0,\\ \\sigma=1$')\n",
    "plt.grid(True)"
   ]
  },
  {
   "cell_type": "code",
   "execution_count": 15,
   "metadata": {
    "collapsed": false
   },
   "outputs": [
    {
     "name": "stdout",
     "output_type": "stream",
     "text": [
      "('index', 11)\n",
      "('max val', 552.94615339782274)\n",
      "('p of argmax', 3.9572040089197458e-10)\n",
      "True\n"
     ]
    }
   ],
   "source": [
    "\n",
    "\n",
    "values = alt(n,mu,epsilon)\n",
    "p_values = p_from_z(values)\n",
    "p_values.sort()\n",
    "\n",
    "stat = np.zeros(n)\n",
    "for i in range(n/2):\n",
    "    stat[i] = math.sqrt(n)*(((i+0.0)/n - p_values[i] )/(math.sqrt(p_values[i]*(1-p_values[i]))))\n",
    "argmaxv = np.argmax(stat)\n",
    "print(\"index\",argmaxv)\n",
    "maxv = stat[argmaxv]\n",
    "print(\"max val\",maxv)\n",
    "pmaxv = p_values[argmaxv]\n",
    "print(\"p of argmax\",pmaxv)\n",
    "print(maxv>threshold)"
   ]
  },
  {
   "cell_type": "code",
   "execution_count": 16,
   "metadata": {
    "collapsed": false
   },
   "outputs": [
    {
     "data": {
      "text/plain": [
       "<matplotlib.figure.Figure at 0x10faf4890>"
      ]
     },
     "execution_count": 16,
     "metadata": {},
     "output_type": "execute_result"
    },
    {
     "data": {
      "image/png": "[encoded data removed]",
      "text/plain": [
       "<matplotlib.figure.Figure at 0x10f7d8190>"
      ]
     },
     "metadata": {},
     "output_type": "display_data"
    },
    {
     "data": {
      "text/plain": [
       "<matplotlib.figure.Figure at 0x10faf4890>"
      ]
     },
     "metadata": {},
     "output_type": "display_data"
    }
   ],
   "source": [
    "plt.hist(p_values, 100, normed=1, facecolor='black', alpha=0.75)\n",
    "plt.xlabel('Smarts')\n",
    "plt.ylabel('Probability')\n",
    "plt.title(r'$\\mathrm{Null\\ Distribution}\\ \\mu=0,\\ \\sigma=1$')\n",
    "plt.grid(True)\n",
    "plt.figure()"
   ]
  },
  {
   "cell_type": "code",
   "execution_count": null,
   "metadata": {
    "collapsed": true
   },
   "outputs": [],
   "source": []
  }
 ],
 "metadata": {
  "kernelspec": {
   "display_name": "Python 2",
   "language": "python",
   "name": "python2"
  },
  "language_info": {
   "codemirror_mode": {
    "name": "ipython",
    "version": 2
   },
   "file_extension": ".py",
   "mimetype": "text/x-python",
   "name": "python",
   "nbconvert_exporter": "python",
   "pygments_lexer": "ipython2",
   "version": "2.7.10"
  }
 },
 "nbformat": 4,
 "nbformat_minor": 0
}
