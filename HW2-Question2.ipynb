{
 "cells": [
  {
   "cell_type": "code",
   "execution_count": 1,
   "metadata": {
    "collapsed": false
   },
   "outputs": [],
   "source": [
    "# Importing packages and initializing the variable\n",
    "import math\n",
    "import numpy as np\n",
    "import matplotlib.pyplot as plt\n",
    "from scipy.stats import norm\n",
    "from scipy.special import erf\n",
    "import matplotlib.mlab as mlab\n",
    "import scipy.integrate as integrate\n",
    "import matplotlib.patches as mpatches\n",
    "import pylab as P\n",
    "\n",
    "%matplotlib inline\n",
    "plt.rcParams['figure.figsize'] = (10.0, 8.0) # set default size of plots\n",
    "plt.rcParams['image.interpolation'] = 'nearest'\n",
    "plt.rcParams['image.cmap'] = 'gray'\n",
    "\n",
    "Data = [ 4.66, 0.85, 2.71, 0.05, 3.00, 0.84, 0.005, 0.006, 0.60, 1.28 ]\n",
    "Data = np.array(Data)/100\n",
    "alpha = 0.05\n"
   ]
  },
  {
   "cell_type": "markdown",
   "metadata": {},
   "source": [
    "# P values "
   ]
  },
  {
   "cell_type": "code",
   "execution_count": 2,
   "metadata": {
    "collapsed": false
   },
   "outputs": [
    {
     "name": "stdout",
     "output_type": "stream",
     "text": [
      "('P Values - ', 4.66, 0.85, 2.71, 0.05, 3.0, 0.84, 0.005, 0.006, 0.6, 1.28)\n"
     ]
    }
   ],
   "source": [
    "print('P Values - ',4.66, 0.85, 2.71, 0.05, 3.00, 0.84, 0.005, 0.006, 0.60, 1.28)"
   ]
  },
  {
   "cell_type": "markdown",
   "metadata": {},
   "source": [
    "# Single tests - Significance - 0.05"
   ]
  },
  {
   "cell_type": "code",
   "execution_count": 3,
   "metadata": {
    "collapsed": false
   },
   "outputs": [
    {
     "name": "stdout",
     "output_type": "stream",
     "text": [
      "('Reject hypothesis', 0, 'with p value', '0.0466')\n",
      "('Reject hypothesis', 1, 'with p value', '0.0085')\n",
      "('Reject hypothesis', 2, 'with p value', '0.0271')\n",
      "('Reject hypothesis', 3, 'with p value', '0.0005')\n",
      "('Reject hypothesis', 4, 'with p value', '0.0300')\n",
      "('Reject hypothesis', 5, 'with p value', '0.0084')\n",
      "('Reject hypothesis', 6, 'with p value', '0.0001')\n",
      "('Reject hypothesis', 7, 'with p value', '0.0001')\n",
      "('Reject hypothesis', 8, 'with p value', '0.0060')\n",
      "('Reject hypothesis', 9, 'with p value', '0.0128')\n"
     ]
    }
   ],
   "source": [
    "for i in range(10):\n",
    "    if Data[i] < alpha:\n",
    "        p = \"%.4f\" % Data[i]\n",
    "        print('Reject hypothesis',i,'with p value', p)"
   ]
  },
  {
   "cell_type": "markdown",
   "metadata": {},
   "source": [
    "# Benforoni"
   ]
  },
  {
   "cell_type": "code",
   "execution_count": 4,
   "metadata": {
    "collapsed": false
   },
   "outputs": [
    {
     "name": "stdout",
     "output_type": "stream",
     "text": [
      "('Reject hypothesis', 3, 'with p value', '0.0005')\n",
      "('Reject hypothesis', 6, 'with p value', '0.0001')\n",
      "('Reject hypothesis', 7, 'with p value', '0.0001')\n"
     ]
    }
   ],
   "source": [
    "for i in range(10):\n",
    "    if Data[i] < alpha/10:\n",
    "        p = \"%.4f\" % Data[i]\n",
    "        print('Reject hypothesis',i,'with p value', p)"
   ]
  },
  {
   "cell_type": "markdown",
   "metadata": {},
   "source": [
    "# Holm's Procedure"
   ]
  },
  {
   "cell_type": "code",
   "execution_count": 5,
   "metadata": {
    "collapsed": false
   },
   "outputs": [
    {
     "name": "stdout",
     "output_type": "stream",
     "text": [
      "('Reject hypothesis', 6, 'with p value', '0.0001')\n",
      "('Reject hypothesis', 7, 'with p value', '0.0001')\n",
      "('Reject hypothesis', 3, 'with p value', '0.0005')\n",
      "('Reject hypothesis', 8, 'with p value', '0.0060')\n"
     ]
    }
   ],
   "source": [
    "for i in range(10):\n",
    "    if sorted(Data)[i] < alpha/(10-i):\n",
    "        index = np.where(Data == sorted(Data)[i])[0][0]\n",
    "        p = \"%.4f\" % Data[index]\n",
    "        print('Reject hypothesis',index,'with p value', p)\n",
    "    else:\n",
    "        break"
   ]
  },
  {
   "cell_type": "markdown",
   "metadata": {},
   "source": [
    "# BH procedure"
   ]
  },
  {
   "cell_type": "code",
   "execution_count": 6,
   "metadata": {
    "collapsed": false
   },
   "outputs": [
    {
     "name": "stdout",
     "output_type": "stream",
     "text": [
      "('Reject hypothesis', 6, 'with p value', '0.0001', 0.005)\n",
      "('Reject hypothesis', 7, 'with p value', '0.0001', 0.01)\n",
      "('Reject hypothesis', 3, 'with p value', '0.0005', 0.015000000000000003)\n",
      "('Reject hypothesis', 8, 'with p value', '0.0060', 0.02)\n",
      "('Reject hypothesis', 5, 'with p value', '0.0084', 0.025)\n",
      "('Reject hypothesis', 1, 'with p value', '0.0085', 0.030000000000000006)\n"
     ]
    }
   ],
   "source": [
    "Sn = 2.92896825397 #(The 1+1/2..1/n factor)\n",
    "for i in range(10):\n",
    "    if sorted(Data)[i] < ((i+1)*alpha)/(Sn*10):\n",
    "        index = np.where(Data == sorted(Data)[i])[0][0]\n",
    "        p = \"%.4f\" % Data[index]\n",
    "        print('Reject hypothesis',index,'with p value', p,((i+1)*alpha)/(10))"
   ]
  },
  {
   "cell_type": "code",
   "execution_count": 7,
   "metadata": {
    "collapsed": false
   },
   "outputs": [
    {
     "data": {
      "image/png": "[encoded data removed]",
      "text/plain": [
       "<matplotlib.figure.Figure at 0x10a810050>"
      ]
     },
     "metadata": {},
     "output_type": "display_data"
    }
   ],
   "source": [
    "\n",
    "Holmes = [ alpha/(10-k) for k in range(10)]\n",
    "BH = [ k*alpha/(10*2.92896825397) for k in range(10)]\n",
    "P.plot(sorted(Data))\n",
    "P.plot(sorted(Data), 'ro',  label=\"Data\")\n",
    "P.plot([alpha]*10, label=\"Single tests\")\n",
    "P.plot([alpha/10]*10, label=\"Benfornni\")\n",
    "P.plot(Holmes, label=\"Holm's\")\n",
    "P.plot(BH, label=\"BH\")\n",
    "P.legend(loc='upper left')\n",
    "P.show()"
   ]
  },
  {
   "cell_type": "code",
   "execution_count": null,
   "metadata": {
    "collapsed": true
   },
   "outputs": [],
   "source": []
  }
 ],
 "metadata": {
  "kernelspec": {
   "display_name": "Python 2",
   "language": "python",
   "name": "python2"
  },
  "language_info": {
   "codemirror_mode": {
    "name": "ipython",
    "version": 2
   },
   "file_extension": ".py",
   "mimetype": "text/x-python",
   "name": "python",
   "nbconvert_exporter": "python",
   "pygments_lexer": "ipython2",
   "version": "2.7.10"
  }
 },
 "nbformat": 4,
 "nbformat_minor": 0
}
