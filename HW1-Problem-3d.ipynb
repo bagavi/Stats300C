{
 "cells": [
  {
   "cell_type": "code",
   "execution_count": 1,
   "metadata": {
    "collapsed": false
   },
   "outputs": [],
   "source": [
    "# Importing packages and initializing the variable\n",
    "import math\n",
    "import numpy as np\n",
    "import matplotlib.pyplot as plt\n",
    "from scipy.stats import norm\n",
    "from scipy.special import erf\n",
    "import matplotlib.mlab as mlab\n",
    "import scipy.integrate as integrate\n",
    "import matplotlib.patches as mpatches\n",
    "import pylab as P\n",
    "\n",
    "%matplotlib inline\n",
    "plt.rcParams['figure.figsize'] = (10.0, 8.0) # set default size of plots\n",
    "plt.rcParams['image.interpolation'] = 'nearest'\n",
    "plt.rcParams['image.cmap'] = 'gray'\n",
    "\n",
    "Data = [ [170, 169, 158, 173, 175, 175, 162, 165, 162, 171, 161, 169, 167, 170],\n",
    "         [169, 171, 170, 161, 165, 165, 161, 165, 179, 165],\n",
    "         [160, 159, 171, 166, 169, 161, 172, 162, 169,152,163, 170, 160, 164, 164, 170],\n",
    "         [150, 160, 162, 159, 162, 155, 160, 159, 155, 159,160, 157, 159, 160, 160],\n",
    "         [160, 160, 161, 172, 165, 170, 170, 170, 168]\n",
    "       ] \n",
    "Data = np.array(Data)\n",
    "Data_std = np.zeros_like(Data)\n",
    "Std = np.zeros(5)\n",
    "Mean  = np.zeros(5)\n",
    "T_stat = np.zeros([5,5])\n",
    "Cov = np.zeros([10,10])"
   ]
  },
  {
   "cell_type": "code",
   "execution_count": 2,
   "metadata": {
    "collapsed": false
   },
   "outputs": [],
   "source": [
    "#Calculating the mean and std\n",
    "for i in range(5):\n",
    "    Std[i] = np.std(Data[i], ddof=1)\n",
    "    Mean[i]  = np.average(Data[i])\n",
    "    Data_std[i]  = (Data[i]-Mean[i])/Std[i]"
   ]
  },
  {
   "cell_type": "code",
   "execution_count": 3,
   "metadata": {
    "collapsed": false
   },
   "outputs": [],
   "source": [
    "#Calculating the T-stats\n",
    "for i in range(5):\n",
    "    for j in range(5):\n",
    "        Yi = Mean[i]\n",
    "        Yj = Mean[j]\n",
    "        Si = Std[i]\n",
    "        Sj = Std[j]\n",
    "        Ni = len(Data[i])\n",
    "        Nj = len(Data[j])\n",
    "        T_stat[i][j] = (Yi-Yj)/(math.sqrt((Si**2)/Ni+(Sj**2)/Nj))"
   ]
  },
  {
   "cell_type": "code",
   "execution_count": 4,
   "metadata": {
    "collapsed": false
   },
   "outputs": [],
   "source": [
    "#Mapping function - Ignore this\n",
    "def func(b,a):\n",
    "    a +=1\n",
    "    b +=1\n",
    "    if(a == 1 and b== 2):\n",
    "        return 0\n",
    "    elif(a== 1 and b== 3):\n",
    "        return 1\n",
    "    elif(a== 1 and b== 4):\n",
    "        return 2\n",
    "    elif(a== 1 and b== 5):\n",
    "        return 3\n",
    "    elif(a== 2 and b== 3):\n",
    "        return 4\n",
    "    elif(a== 2 and b== 4):\n",
    "        return 5\n",
    "    elif(a== 2 and b== 5):\n",
    "        return 6\n",
    "    elif(a== 3 and b== 4):\n",
    "        return 7\n",
    "    elif(a== 3 and b== 5):\n",
    "        return 8\n",
    "    elif(a== 4 and b== 5):\n",
    "        return 9\n",
    "\n",
    "def rev_func(col):\n",
    "    for i in range(5):\n",
    "        for j in range(i):\n",
    "            if func(i,j) == col:\n",
    "                return [i,j]"
   ]
  },
  {
   "cell_type": "code",
   "execution_count": 5,
   "metadata": {
    "collapsed": false,
    "scrolled": false
   },
   "outputs": [],
   "source": [
    "#Using the analytical formulae mentioned in the homework to calculate Covariance Matrix\n",
    "for i in range(5):\n",
    "    Si = Std[i]\n",
    "    Ni = len(Data[i])+0.0\n",
    "    for j in range(i):\n",
    "        Sj = Std[j]\n",
    "        Nj = len(Data[j])+0.0    \n",
    "        for k in range(5):\n",
    "            Sk = Std[k]\n",
    "            Nk = len(Data[k]) +0.0 \n",
    "            for l in range(k):\n",
    "                Sl = Std[l]\n",
    "                Nl = len(Data[l]) +0.0 \n",
    "\n",
    "                Num = (i==k)*(Si**2/Ni) - (i==l)*(Si**2/Ni) - (j==k)*(Sj**2/Nj) + (j==l)*(Sj**2/Nj)\n",
    "                Denom = (math.sqrt((Si**2/Ni+Sj**2/Nj)*(Sl**2/Nl+Sk**2/Nk) ))\n",
    "                Cov[func(i,j)][func(k,l)] = Num/Denom"
   ]
  },
  {
   "cell_type": "code",
   "execution_count": 8,
   "metadata": {
    "collapsed": false
   },
   "outputs": [
    {
     "name": "stdout",
     "output_type": "stream",
     "text": [
      "('Reject', [0, 3])\n",
      "('Reject', [1, 3])\n",
      "('Reject', [3, 4])\n",
      "('Reject', [2, 3])\n"
     ]
    }
   ],
   "source": [
    "t_stat = np.zeros(10)\n",
    "for i in range(5):\n",
    "    for j in range(i):\n",
    "        t_stat[func(i,j)] = abs(T_stat[i,j])\n",
    "t_stat_copy = np.copy(t_stat)\n",
    "Cov1 = Cov\n",
    "J = [0,1,2,3,4,5,6,7,8,9]\n",
    "for k in range(9):\n",
    "    #Calculate the percentile\n",
    "    Temp = np.max(np.random.multivariate_normal(np.zeros(10-k), Cov1,100),axis=1)\n",
    "    limit = np.percentile(Temp,95)\n",
    "    argmax = np.argmax(t_stat)\n",
    "    max_val = np.max(t_stat)\n",
    "    if(max_val > limit ):\n",
    "        print(\"Reject\", sorted(rev_func(np.where(t_stat_copy==max_val)[0][0])))\n",
    "    else:\n",
    "        break\n",
    "    Cov1 = np.delete(Cov1, (argmax), axis=0)\n",
    "    Cov1 = np.delete(Cov1, (argmax), axis=1)\n",
    "    t_stat = np.delete(t_stat, (argmax), axis=0)\n"
   ]
  }
 ],
 "metadata": {
  "kernelspec": {
   "display_name": "Python 2",
   "language": "python",
   "name": "python2"
  },
  "language_info": {
   "codemirror_mode": {
    "name": "ipython",
    "version": 2
   },
   "file_extension": ".py",
   "mimetype": "text/x-python",
   "name": "python",
   "nbconvert_exporter": "python",
   "pygments_lexer": "ipython2",
   "version": "2.7.10"
  }
 },
 "nbformat": 4,
 "nbformat_minor": 0
}
